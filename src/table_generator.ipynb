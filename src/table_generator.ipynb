{
 "cells": [
  {
   "cell_type": "code",
   "execution_count": 1,
   "metadata": {},
   "outputs": [],
   "source": [
    "import pandas as pd "
   ]
  },
  {
   "cell_type": "code",
   "execution_count": 12,
   "metadata": {},
   "outputs": [
    {
     "name": "stdout",
     "output_type": "stream",
     "text": [
      "\\begin{tabular}{ll}\n",
      "\\toprule\n",
      "{} &     Best \\\\\n",
      "\\midrule\n",
      "multiprocessing       &     True \\\\\n",
      "processes             &        6 \\\\\n",
      "crossover\\_type        &  regular \\\\\n",
      "max\\_generations       &        5 \\\\\n",
      "sim\\_per\\_individual    &       20 \\\\\n",
      "pop\\_size              &       26 \\\\\n",
      "elitism\\_n             &      100 \\\\\n",
      "truncation\\_percentage &     0.33 \\\\\n",
      "crossover\\_points      &       10 \\\\\n",
      "crossover\\_probability &      0.9 \\\\\n",
      "mutation\\_probability  &    0.005 \\\\\n",
      "spread\\_mutation       &        0 \\\\\n",
      "\\bottomrule\n",
      "\\end{tabular}\n",
      "\n"
     ]
    }
   ],
   "source": [
    "hy =  {\n",
    "    \"multiprocessing\": True,\n",
    "    \"processes\": 6,\n",
    "    \"crossover_type\": \"regular\",\n",
    "    \"max_generations\": 5,\n",
    "    \"sim_per_individual\": 20,\n",
    "    \"pop_size\": 26,\n",
    "    \"elitism_n\": 100,\n",
    "    \"truncation_percentage\": 0.33,\n",
    "    \"crossover_points\": 10,\n",
    "    \"crossover_probability\": 0.9,\n",
    "    \"mutation_probability\": 0.005,\n",
    "    \"spread_mutation\": 0\n",
    "  }\n",
    "hyper = pd.DataFrame.from_dict(hy, orient='index', columns = ['Best'])\n",
    "print(hyper.to_latex())"
   ]
  }
 ],
 "metadata": {
  "kernelspec": {
   "display_name": "Python 3",
   "language": "python",
   "name": "python3"
  },
  "language_info": {
   "codemirror_mode": {
    "name": "ipython",
    "version": 3
   },
   "file_extension": ".py",
   "mimetype": "text/x-python",
   "name": "python",
   "nbconvert_exporter": "python",
   "pygments_lexer": "ipython3",
   "version": "3.7.1"
  }
 },
 "nbformat": 4,
 "nbformat_minor": 2
}
